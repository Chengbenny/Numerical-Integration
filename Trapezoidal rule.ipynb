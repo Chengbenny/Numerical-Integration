{
 "cells": [
  {
   "cell_type": "markdown",
   "id": "b1f9a9c1-6f8f-4e17-b2c5-262ba127e2cd",
   "metadata": {},
   "source": [
    "For the one dimensional, we can also use trapezodidal rule to computer the integraion\\\n",
    "\\\n",
    "Define the function $f(x)=\\frac{1}{1+10x^2}, x \\in [-1, 1]$ and divide the interval into $N$ equal subinterval $\\Delta x = \\frac{2}{N}$\\\n",
    "\\\n",
    "$x_i = -1+(i-1) \\Delta x, i = 1, 2, ... , N$\\\n",
    "\\\n",
    "Approximate the integration $\\int_{-1}^{1}f(x) dx \\approx \\frac{1}{N}[f(x_1) + 2f(x_2) + 2f(x_3) + ... + 2f(x_{N-1}) + f(x_N)]$"
   ]
  },
  {
   "cell_type": "code",
   "execution_count": 25,
   "id": "f61e4002-d7ff-4023-b53b-b73eb61b7cda",
   "metadata": {},
   "outputs": [],
   "source": [
    "import numpy as np\n",
    "\n",
    "def trapezoidal_integration(f, N, d, x):\n",
    "    # grid\n",
    "    delta = (x[:, 1] - x[:, 0]) / N\n",
    "    \n",
    "    # create grid points\n",
    "    points = [np.linspace(x[i, 0], x[i, 1], N + 1) for i in range(d)]\n",
    "    \n",
    "    # create meshgrid\n",
    "    mesh = np.meshgrid(*points)\n",
    "    grid_points = np.vstack([m.flatten() for m in mesh]).T\n",
    "    \n",
    "    # value of function at grid points\n",
    "    function_values = np.array([f(point) for point in grid_points])\n",
    "    \n",
    "    # reshape function values to be a grid\n",
    "    function_values = function_values.reshape([N + 1] * d)\n",
    "    \n",
    "    # apply trapezoidal rule\n",
    "    integral = (delta[0] / 2) * (np.sum(function_values[1:-1]) * 2 + function_values[0] + function_values[-1])\n",
    "    return integral\n"
   ]
  },
  {
   "cell_type": "code",
   "execution_count": 26,
   "id": "5ee61be4-af7c-412d-b41a-b2184e49205e",
   "metadata": {},
   "outputs": [
    {
     "name": "stdout",
     "output_type": "stream",
     "text": [
      "Exact value is 0.7997520101115323\n"
     ]
    }
   ],
   "source": [
    "# Test for one dimension\n",
    "exact_value = np.sqrt(2/5)*np.arctan(np.sqrt(10))\n",
    "print(\"Exact value is\", exact_value)"
   ]
  },
  {
   "cell_type": "code",
   "execution_count": 27,
   "id": "318e7a5f-f977-476e-b846-caddd0a83255",
   "metadata": {},
   "outputs": [],
   "source": [
    "def function(x):\n",
    "    return 1/(1 + 10*np.sum(x**2))"
   ]
  },
  {
   "cell_type": "code",
   "execution_count": 28,
   "id": "d60db7bb-3c10-4866-90c2-fe85c04d3c31",
   "metadata": {},
   "outputs": [
    {
     "name": "stdout",
     "output_type": "stream",
     "text": [
      "Number of points =  10 , value =  0.7987528335354421 , Absolute error =  0.000999176576090166\n",
      "Number of points =  100 , value =  0.7997409914833622 , Absolute error =  1.1018628170100797e-05\n",
      "Number of points =  1000 , value =  0.7997518999187604 , Absolute error =  1.1019277190715826e-07\n",
      "Number of points =  10000 , value =  0.7997520090096039 , Absolute error =  1.1019284373858795e-09\n"
     ]
    }
   ],
   "source": [
    "d= 1\n",
    "x = np.array([[-1, 1]])\n",
    "N_values = range(1, 5, 1)\n",
    "for N in N_values:    \n",
    "    integral = trapezoidal_integration(function, 10**N, d, x)\n",
    "    print(\"Number of points = \" , 10**N , ', value = ', integral, ', Absolute error = ', np.abs(integral - exact_value))"
   ]
  },
  {
   "cell_type": "markdown",
   "id": "e298b447-db0c-470a-a260-93f59ade275d",
   "metadata": {},
   "source": [
    "We also find that the order of error is $O(N^{-2})$"
   ]
  }
 ],
 "metadata": {
  "kernelspec": {
   "display_name": "Python 3 (ipykernel)",
   "language": "python",
   "name": "python3"
  },
  "language_info": {
   "codemirror_mode": {
    "name": "ipython",
    "version": 3
   },
   "file_extension": ".py",
   "mimetype": "text/x-python",
   "name": "python",
   "nbconvert_exporter": "python",
   "pygments_lexer": "ipython3",
   "version": "3.10.1"
  }
 },
 "nbformat": 4,
 "nbformat_minor": 5
}
