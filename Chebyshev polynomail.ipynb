{
 "cells": [
  {
   "cell_type": "markdown",
   "id": "341b8d46-0ab1-495d-b916-7568a9b5325c",
   "metadata": {},
   "source": [
    "Now, we want to use Chebyshev first kind node to do function approximaiton\\\n",
    "\\\n",
    "Define $T_k (x) = \\cos(k\\cos^{-1}(x)), f(x)=\\frac{1}{1+10x^2}, x \\in [-1, 1]$ \n",
    "\\\n",
    "\\\n",
    "To find $\\underset{C_k}{\\operatorname{argmin}}\\Vert f(x) - \\sum C_k T_k(x) \\Vert$\\\n",
    "\\\n",
    "We obtain $C_k = \\frac{<f, T_k>}{<T_k, T_k>}$, where the inner product operation is defined by $<f, g> = \\int_{-1}^{1}\\frac{1}{\\sqrt{1+x^2}}f(x)g(x)dx$\\\n",
    "\\\n",
    "The next step is to compute $<f, T_k> = \\int_{-1}^{1}\\frac{1}{\\sqrt{1+x^2}}f(x)\\cos(k \\cos^{-1}(x))dx$   and we change varible $x = \\cos\\theta$\\\n",
    "\\\n",
    "The integration becomes $\\int_{0}^{\\pi}f(\\cos \\theta) \\cos(k\\theta) d\\theta$\\\n",
    "\\\n",
    "Similarly, $<T_k, T_k> = \\int_{0}^{\\pi}\\cos^{2}(k\\theta)d \\theta$ $\\quad$ (In fact, this value is $\\frac{\\pi}{2}$)\\\n",
    "\\\n",
    "The following code is covering one dimension case.\\\n",
    "\\\n",
    "Use the midpoint rule to compute the integration again and we obtain $C_k$"
   ]
  },
  {
   "cell_type": "code",
   "execution_count": 3,
   "id": "56dd7552-6d5b-4833-bd31-f57ae9f77d54",
   "metadata": {},
   "outputs": [
    {
     "name": "stdout",
     "output_type": "stream",
     "text": [
      " Index =  0 : 0.30151134457776363\n",
      " Index =  1 : 0.0\n",
      " Index =  2 : -0.32362722698663277\n",
      " Index =  3 : 0.0\n",
      " Index =  4 : 0.17368265561239118\n",
      " Index =  5 : -2.842170943040401e-17\n",
      " Index =  6 : -0.0932111464831062\n",
      " Index =  7 : 1.4210854715202004e-17\n",
      " Index =  8 : 0.05002409594706375\n",
      " Index =  9 : -4.263256414560601e-17\n"
     ]
    }
   ],
   "source": [
    "import numpy as np\n",
    "\n",
    "def midpoint_integration(f, N, d, x):\n",
    "    # grid\n",
    "    delta = (x[:, 1] - x[:, 0]) / N\n",
    "\n",
    "    # midpoint\n",
    "    midpoints = [np.linspace(x[i, 0] + delta[i] / 2, x[i, 1] - delta[i] / 2, N) for i in range(d)]\n",
    "\n",
    "    # meshgrid\n",
    "    mesh = np.meshgrid(*midpoints)\n",
    "    points = np.vstack([m.flatten() for m in mesh]).T\n",
    "\n",
    "    # value of midpoint\n",
    "    if d == 1:\n",
    "        function_values = np.array([f(point) for point in points])\n",
    "    elif d == 2:\n",
    "        function_values = np.array([f(point[0], point[1]) for point in points])\n",
    "    elif d == 3:\n",
    "        function_values = np.array([f(point[0], point[1], point[2]) for point in points])\n",
    "    # calculate volume\n",
    "    volume_element = np.prod(delta)\n",
    "\n",
    "    # calculate integral\n",
    "    integral = np.sum(function_values) * volume_element\n",
    "\n",
    "    return integral\n",
    "\n",
    "def function(x):\n",
    "    return 1/(1 + 10*np.sum(x**2))\n",
    "\n",
    "d = 1\n",
    "x = np.array([[0, np.pi]])\n",
    "k = range(0, 10, 1)\n",
    "C_k = []\n",
    "for i in k:    \n",
    "    def function_chebyshev_1(theta):\n",
    "        return function(np.cos(theta))* np.cos(i*theta)\n",
    "    def function_chebyshev_2(theta):\n",
    "        return np.cos(i*theta)**2\n",
    "    inner_product_1 = midpoint_integration(function_chebyshev_1, 1000, d, x)\n",
    "    inner_product_2 = midpoint_integration(function_chebyshev_2, 1000, d, x)\n",
    "    C_k.append(inner_product_1/inner_product_2)\n",
    "    print(\" Index = \" , i , ':', inner_product_1/inner_product_2)"
   ]
  },
  {
   "cell_type": "markdown",
   "id": "c9a4f5cd-8c59-4afc-af66-b5c5e6992e91",
   "metadata": {},
   "source": [
    "For two dimensional case, $f(x, y)= \\frac{1}{10+x^2+y^2} = \\sum_{i=0}^{n-1}\\sum_{j=0}^{n-1} C_{i,j} T_i(x) T_j(y)$ \\\n",
    "\\\n",
    "$C_{k,l} = \\frac{<f, T_k(x)T_l(y)>}{<T_k(x)T_k(x), T_l(y)T_l(y)>} = \\frac{<f, T_k(x)T_l(y)>}{<T_k(x)T_k(x)> <T_l(y)T_l(y)>}$ \\\n",
    "\\\n",
    "$<f, T_k(x)T_l(y)>=\\int_{0}^{\\pi} \\int_{0}^{\\pi}f(\\cos \\theta_1, \\cos \\theta_2) \\cos(k \\theta_1) \\cos(l \\theta_2) d \\theta_1 d \\theta_2$\\\n",
    "\\\n",
    "$<T_k(x)T_k(x)> <T_l(y)T_l(y)> = \\int_{0}^{\\pi}\\cos^{2}(k\\theta_1)d \\theta_1 \\int_{0}^{\\pi}\\cos^{2}(l\\theta_2)d \\theta_2$\n",
    "\\\n",
    "\\\n",
    "The process to get $C_{i,j}$ is similar to one dimesional case\\\n",
    "\\\n",
    "The following code covers the two dimensonal case"
   ]
  },
  {
   "cell_type": "code",
   "execution_count": 4,
   "id": "eb9afc5f-0a87-419a-9389-21126af95d6d",
   "metadata": {},
   "outputs": [
    {
     "name": "stdout",
     "output_type": "stream",
     "text": [
      " Index =  0 0 : 0.0910977978231593\n",
      " Index =  0 1 : -5.6843418860808e-18\n",
      " Index =  0 2 : -0.004151552109504897\n",
      " Index =  0 3 : -5.684341886080799e-18\n",
      " Index =  1 0 : -3.219646771412953e-18\n",
      " Index =  1 1 : -2.6645352591003745e-19\n",
      " Index =  1 2 : 3.5527136788005e-19\n",
      " Index =  1 3 : 0.0\n",
      " Index =  2 0 : -0.0041515521095049\n",
      " Index =  2 1 : 1.77635683940025e-19\n",
      " Index =  2 2 : 0.0003780009915228202\n",
      " Index =  2 3 : 3.552713678800499e-19\n",
      " Index =  3 0 : -4.873879078104435e-18\n",
      " Index =  3 1 : 2.4424906541753426e-19\n",
      " Index =  3 2 : 1.9984014443252808e-19\n",
      " Index =  3 3 : -5.329070518200747e-19\n"
     ]
    }
   ],
   "source": [
    "def f(x, y):\n",
    "    return 1/(10+x**2+y**2)\n",
    "\n",
    "d1 = 1\n",
    "x1 = np.array([[0, np.pi]])\n",
    "d2 = 2\n",
    "x2 = np.array([[0, np.pi], [0, np.pi]]) \n",
    "k = range(0, 4, 1)\n",
    "C_kl = []\n",
    "for i in k:    \n",
    "    for j in k:\n",
    "        def function_chebyshev_1(theta1, theta2):\n",
    "            return f(np.cos(theta1), np.cos(theta2))*np.cos(i*theta1)*np.cos(j*theta2)\n",
    "        def function_chebyshev_2(theta):\n",
    "            return np.cos(i*theta)**2\n",
    "        def function_chebyshev_3(theta):\n",
    "            return np.cos(j*theta)**2\n",
    "        inner_product_1 = midpoint_integration(function_chebyshev_1, 200, d2, x2)\n",
    "        inner_product_2 = midpoint_integration(function_chebyshev_2, 100, d1, x1)\n",
    "        inner_product_3 = midpoint_integration(function_chebyshev_3, 100, d1, x1)\n",
    "        C_kl.append(inner_product_1/(inner_product_2*inner_product_3))\n",
    "        print(\" Index = \" , i , j,  ':', inner_product_1/(inner_product_2*inner_product_3))"
   ]
  }
 ],
 "metadata": {
  "kernelspec": {
   "display_name": "Python 3 (ipykernel)",
   "language": "python",
   "name": "python3"
  },
  "language_info": {
   "codemirror_mode": {
    "name": "ipython",
    "version": 3
   },
   "file_extension": ".py",
   "mimetype": "text/x-python",
   "name": "python",
   "nbconvert_exporter": "python",
   "pygments_lexer": "ipython3",
   "version": "3.10.1"
  }
 },
 "nbformat": 4,
 "nbformat_minor": 5
}
