{
 "cells": [
  {
   "cell_type": "markdown",
   "id": "9d006f31-cc89-46a3-9582-5f254e91eab4",
   "metadata": {},
   "source": [
    "For high dimensional case, midpoint rule, trapezoidal rule, and FFT cannot cover such problem since these methods will have high computing overhead.\n",
    "So, we try to attempt a new method, Quasi-Monte Carlo method(QMC).\n",
    "Unlike the traditional Monte Carlo method, which relies on random sampling, QMC uses deterministic sequences known as low-discrepancy sequences. These sequences are designed to cover the integration domain more uniformly than random samples, leading to more accurate and efficient results.\n",
    "The following code will have two kind of random samples and we use the case $f(x) = |\\sin x_1|, $ $x \\in \\mathbb{R}^{20}$:\n"
   ]
  },
  {
   "cell_type": "markdown",
   "id": "ce7e8a36-fb53-41cf-8a86-162d64d96d94",
   "metadata": {},
   "source": [
    "The first kind of random samples is halton sequence.\\\n",
    "The Halton sequence is a type of low-discrepancy sequence used in Quasi-Monte Carlo methods for generating points that are more uniformly distributed than those produced by random sampling.\\\n",
    "The link is wiki about halton sequence:\n",
    "\\\n",
    "[Halton sequnce](https://en.wikipedia.org/wiki/Halton_sequence)\n",
    "\\\n",
    "The following is the code and result for QMC with halton sequence."
   ]
  },
  {
   "cell_type": "code",
   "execution_count": 34,
   "id": "f1dd9ed6-7216-421c-a5c4-c48ef3a36208",
   "metadata": {},
   "outputs": [],
   "source": [
    "import numpy as np\n",
    "from scipy.stats.qmc import Halton\n",
    "from scipy.stats.qmc import Sobol\n",
    "from scipy.stats import qmc"
   ]
  },
  {
   "cell_type": "code",
   "execution_count": 35,
   "id": "a9878044-2e4d-4c63-b11d-f2dbc82d91cd",
   "metadata": {},
   "outputs": [],
   "source": [
    "def f(x):\n",
    "    return np.abs(np.sin(x[0]))"
   ]
  },
  {
   "cell_type": "code",
   "execution_count": 36,
   "id": "9341cf7a-772f-4c49-aa22-1aa884069709",
   "metadata": {},
   "outputs": [],
   "source": [
    "def qmc_halton(func, bounds, num_samples):\n",
    "    dim = len(bounds)\n",
    "    bounds = np.array(bounds)\n",
    "    mins = bounds[:, 0]\n",
    "    maxs = bounds[:, 1]\n",
    "    \n",
    "    # Generate Halton sequence points within the bounds\n",
    "    sampler = Halton(dim)\n",
    "    samples = sampler.random(num_samples)\n",
    "    \n",
    "    # Scale samples to the bounds\n",
    "    random_points = mins + (maxs - mins) * samples\n",
    "    \n",
    "    # Evaluate the function at the random points\n",
    "    func_values = func(random_points.T)  # Transpose for correct function input\n",
    "    \n",
    "    # Calculate the volume of the hyper-rectangle\n",
    "    volume = np.prod(maxs - mins)\n",
    "    \n",
    "    # Estimate the integral\n",
    "    integral_estimate = volume * np.mean(func_values)\n",
    "    \n",
    "    return integral_estimate"
   ]
  },
  {
   "cell_type": "code",
   "execution_count": 37,
   "id": "8fe3b9fe-62b2-447d-a313-0d1567b703e4",
   "metadata": {},
   "outputs": [
    {
     "name": "stdout",
     "output_type": "stream",
     "text": [
      "Exact value is  482027.9693220095\n"
     ]
    }
   ],
   "source": [
    "exact_value = (2-2*np.cos(1))*2**19\n",
    "print(\"Exact value is \", exact_value)"
   ]
  },
  {
   "cell_type": "code",
   "execution_count": 58,
   "id": "7dbeeeea-4b9b-40a0-84f0-da232da4ec5b",
   "metadata": {},
   "outputs": [
    {
     "name": "stdout",
     "output_type": "stream",
     "text": [
      "Result of qmc in halton sequence\n",
      "Number of points = 1000 , value =  484675.792471095 , Absolute error =  5.5854443402495235\n",
      "Number of points = 10000 , value =  482022.3838776692 , Absolute error =  7.762457244098186e-06\n",
      "Number of points = 100000 , value =  482027.9959782859 , Absolute error =  0.026656276430003345\n",
      "Number of points = 1000000 , value =  482027.96934789285 , Absolute error =  0.0013213109341450036\n"
     ]
    }
   ],
   "source": [
    "bounds = [(-1, 1)] * 20\n",
    "integral_1000 = qmc_halton(f, bounds, 1000)\n",
    "integral_10000 = qmc_halton(f, bounds, 131072)\n",
    "integral_100000 = qmc_halton(f, bounds, 100000)\n",
    "integral_1000000 = qmc_halton(f, bounds, 1000000)\n",
    "print(\"Result of qmc in halton sequence\")\n",
    "print(\"Number of points = 1000 ,\", \"value = \", integral_10, \", Absolute error = \", np.abs(integral_1000-exact_value))\n",
    "print(\"Number of points = 10000 ,\", \"value = \", integral_1000, \", Absolute error = \", np.abs(integral_10000-exact_value))\n",
    "print(\"Number of points = 100000 ,\", \"value = \", integral_100000, \", Absolute error = \", np.abs(integral_100000-exact_value))\n",
    "print(\"Number of points = 1000000 ,\", \"value = \", integral_10000000, \", Absolute error = \", np.abs(integral_1000000-exact_value))"
   ]
  },
  {
   "cell_type": "markdown",
   "id": "8018812c-23bd-454c-bd6b-a282da74579a",
   "metadata": {},
   "source": [
    "The second kind of random samples is sobol sequence.\n",
    "The Sobol sequence is designed to fill the space more evenly and efficiently than random or other low-discrepancy sequences. It is particularly effective in higher dimensions, where it maintains its uniformity and low discrepancy.\\\n",
    "The link is wiki about sobol sequence:\n",
    "\\\n",
    "[Sobol sequnce](https://www.google.com/search?q=sobol+sequence&sca_esv=3b07b09e3325eaa7&sca_upv=1&rlz=1C1FKPE_zh-TWTW968TW968&sxsrf=ADLYWIJZ2xJFZeQc7tj5X1fbZhdYdInjwA%3A1721633242406&ei=2gmeZue3GJjZ1e8PzOe74Ag&oq=sobol&gs_lp=Egxnd3Mtd2l6LXNlcnAiBXNvYm9sKgIIADIKECMYgAQYJxiKBTIKECMYgAQYJxiKBTIFEAAYgAQyBRAAGIAEMgUQABiABDIFEAAYgAQyBRAAGIAEMgUQABiABDIFEAAYgAQyBRAAGIAESP4QUABY8QNwAHgAkAEAmAFnoAGtA6oBAzQuMbgBAcgBAPgBAZgCBaAC2wPCAgoQABiABBhDGIoFwgILEAAYgAQYsQMYgwHCAhEQLhiABBixAxjRAxiDARjHAcICDhAuGIAEGLEDGIMBGIoFwgIIEAAYgAQYsQPCAhQQLhiABBixAxiDARjHARiOBRivAcICCxAuGIAEGLEDGIMBwgIOEC4YgAQYxwEYjgUYrwHCAhMQLhiABBixAxjRAxiDARjHARgKwgINEAAYgAQYsQMYQxiKBcICChAAGIAEGLEDGArCAgcQABiABBgKmAMAkgcDMy4yoAfJMg&sclient=gws-wiz-serp)\n",
    "\\\n",
    "The following is the code and result for QMC with sobol sequence."
   ]
  },
  {
   "cell_type": "code",
   "execution_count": 39,
   "id": "3e807068-9844-4c9c-9b4b-087dfabb1083",
   "metadata": {},
   "outputs": [],
   "source": [
    "def qmc_sobol(func, bounds, num_samples):\n",
    "    dim = len(bounds)\n",
    "    bounds = np.array(bounds)\n",
    "    mins = bounds[:, 0]\n",
    "    maxs = bounds[:, 1]\n",
    "    \n",
    "    # Generate Sobol sequence points within the bounds\n",
    "    sampler = Sobol(dim)\n",
    "    samples = sampler.random(num_samples)\n",
    "    \n",
    "    # Scale samples to the bounds\n",
    "    random_points = mins + (maxs - mins) * samples\n",
    "    \n",
    "    # Evaluate the function at the random points\n",
    "    func_values = func(random_points.T)  # Transpose for correct function input\n",
    "    \n",
    "    # Calculate the volume of the hyper-rectangle\n",
    "    volume = np.prod(maxs - mins)\n",
    "    \n",
    "    # Estimate the integral\n",
    "    integral_estimate = volume * np.mean(func_values)\n",
    "    \n",
    "    return integral_estimate"
   ]
  },
  {
   "cell_type": "code",
   "execution_count": 40,
   "id": "3404704f-0637-4300-8ca8-72a184ed8f7f",
   "metadata": {},
   "outputs": [
    {
     "name": "stdout",
     "output_type": "stream",
     "text": [
      "Exact value is  482027.9693220095\n"
     ]
    }
   ],
   "source": [
    "exact_value = (2-2*np.cos(1))*2**19\n",
    "print(\"Exact value is \", exact_value)"
   ]
  },
  {
   "cell_type": "code",
   "execution_count": 60,
   "id": "f8a0358b-6dce-4f9a-90c8-846fd4e29ace",
   "metadata": {},
   "outputs": [
    {
     "name": "stdout",
     "output_type": "stream",
     "text": [
      "Result of qmc in sobol sequence\n",
      "Number of points = 1024 , value =  482027.9697414562 , Absolute error =  0.0004194467328488827\n",
      "Number of points = 8192 , value =  482027.9693220105 , Absolute error =  1.0477378964424133e-09\n",
      "Number of points = 131072 , value =  482027.9693220095 , Absolute error =  0.0\n"
     ]
    }
   ],
   "source": [
    "bounds = [(-1, 1)] * 20\n",
    "integral_1024 = qmc_sobol(f, bounds, 1024)\n",
    "integral_8192 = qmc_sobol(f, bounds, 8192)\n",
    "integral_131072 = qmc_sobol(f, bounds, 131072)\n",
    "print(\"Result of qmc in sobol sequence\")\n",
    "print(\"Number of points = 1024 ,\", \"value = \", integral_1024, \", Absolute error = \", np.abs(integral_1024-exact_value))\n",
    "print(\"Number of points = 8192 ,\", \"value = \", integral_8192, \", Absolute error = \", np.abs(integral_8192-exact_value))\n",
    "print(\"Number of points = 131072 ,\", \"value = \", integral_131072, \", Absolute error = \", np.abs(integral_131072-exact_value))"
   ]
  }
 ],
 "metadata": {
  "kernelspec": {
   "display_name": "Python 3 (ipykernel)",
   "language": "python",
   "name": "python3"
  },
  "language_info": {
   "codemirror_mode": {
    "name": "ipython",
    "version": 3
   },
   "file_extension": ".py",
   "mimetype": "text/x-python",
   "name": "python",
   "nbconvert_exporter": "python",
   "pygments_lexer": "ipython3",
   "version": "3.10.1"
  }
 },
 "nbformat": 4,
 "nbformat_minor": 5
}
