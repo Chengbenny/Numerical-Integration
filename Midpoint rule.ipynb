{
 "cells": [
  {
   "cell_type": "markdown",
   "id": "8696a81c-6a03-427c-b481-8a03b4e699a3",
   "metadata": {},
   "source": [
    "First, we want to use midpoint rule to do numerical integraion \\\n",
    "\\\n",
    "For one dimension, we define the function $f(x)=\\frac{1}{1+10x^2}, x \\in [-1, 1]$ and divide the interval into $N$ equal subinterval $\\Delta x = \\frac{2}{N}$\\\n",
    "\\\n",
    "Then we determine the mipoint $x_i = -1+\\frac{1}{N}+(i-1) \\Delta x, i = 1, 2, ... , N$\\\n",
    "\\\n",
    "Finally approximate the integration $\\int_{-1}^{1}f(x) dx \\approx \\sum_{i=1}^{N}f(x_i)\\Delta x$\\\n",
    "\\\n",
    "In the following code, I implement the midpoint rule for numerical integration in one, two ,and three dimension"
   ]
  },
  {
   "cell_type": "code",
   "execution_count": 9,
   "id": "e749b861-39ea-45f0-995b-7731604301cc",
   "metadata": {},
   "outputs": [
    {
     "name": "stdout",
     "output_type": "stream",
     "text": [
      "Exact value is 0.7997520101115323\n"
     ]
    }
   ],
   "source": [
    "import numpy as np\n",
    "\n",
    "def midpoint_integration(f, N, d, x):\n",
    "    # grid\n",
    "    delta = (x[:, 1] - x[:, 0]) / N\n",
    "\n",
    "    # midpoint\n",
    "    midpoints = [np.linspace(x[i, 0] + delta[i] / 2, x[i, 1] - delta[i] / 2, N) for i in range(d)]\n",
    "\n",
    "    # meshgrid\n",
    "    mesh = np.meshgrid(*midpoints)\n",
    "    points = np.vstack([m.flatten() for m in mesh]).T\n",
    "\n",
    "    # value of midpoint\n",
    "    if d == 1:\n",
    "        function_values = np.array([f(point) for point in points])\n",
    "    elif d == 2:\n",
    "        function_values = np.array([f(point[0], point[1]) for point in points])\n",
    "    elif d == 3:\n",
    "        function_values = np.array([f(point[0], point[1], point[2]) for point in points])\n",
    "    # calculate volume\n",
    "    volume_element = np.prod(delta)\n",
    "\n",
    "    # calculate integral\n",
    "    integral = np.sum(function_values) * volume_element\n",
    "\n",
    "    return integral\n",
    "\n",
    "# Test for one dimension\n",
    "exact_value = np.sqrt(2/5)*np.arctan(np.sqrt(10))\n",
    "print(\"Exact value is\", exact_value)"
   ]
  },
  {
   "cell_type": "code",
   "execution_count": 10,
   "id": "0a1aaa13-fc4e-4309-a349-06ee3b53fa6e",
   "metadata": {},
   "outputs": [],
   "source": [
    "def function(x):\n",
    "    return 1/(1 + 10*np.sum(x**2))"
   ]
  },
  {
   "cell_type": "code",
   "execution_count": 15,
   "id": "784a7ae2-4e7d-4d6b-98aa-0479132fcf21",
   "metadata": {},
   "outputs": [
    {
     "name": "stdout",
     "output_type": "stream",
     "text": [
      "Number of points =  10 , value =  0.8002010478370871 , Absolute error =  0.0004490377255548239\n",
      "Number of points =  100 , value =  0.799757519179787 , Absolute error =  5.509068254694327e-06\n",
      "Number of points =  1000 , value =  0.7997520652078935 , Absolute error =  5.509636125111683e-08\n",
      "Number of points =  10000 , value =  0.7997520106624965 , Absolute error =  5.509641631817885e-10\n"
     ]
    }
   ],
   "source": [
    "d= 1\n",
    "x = np.array([[-1, 1]])\n",
    "N_values = range(1, 5, 1)\n",
    "for N in N_values:    \n",
    "    integral = midpoint_integration(function, 10**N, d, x)\n",
    "    print(\"Number of points = \" , 10**N , ', value = ', integral, ', Absolute error = ', np.abs(integral - exact_value))"
   ]
  },
  {
   "cell_type": "markdown",
   "id": "d35cffa1-2725-4ac1-b0ba-5f33f12213c3",
   "metadata": {},
   "source": [
    "We can observe that the order of error $O(N^{-2})$"
   ]
  },
  {
   "cell_type": "code",
   "execution_count": null,
   "id": "c40f07b9-1692-4942-8f7f-2989f2662b54",
   "metadata": {},
   "outputs": [],
   "source": []
  }
 ],
 "metadata": {
  "kernelspec": {
   "display_name": "Python 3 (ipykernel)",
   "language": "python",
   "name": "python3"
  },
  "language_info": {
   "codemirror_mode": {
    "name": "ipython",
    "version": 3
   },
   "file_extension": ".py",
   "mimetype": "text/x-python",
   "name": "python",
   "nbconvert_exporter": "python",
   "pygments_lexer": "ipython3",
   "version": "3.10.1"
  }
 },
 "nbformat": 4,
 "nbformat_minor": 5
}
